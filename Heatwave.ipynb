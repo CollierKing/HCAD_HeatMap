{
 "cells": [
  {
   "cell_type": "code",
   "execution_count": null,
   "metadata": {},
   "outputs": [],
   "source": [
    "# from zipfile import ZipFile\n",
    "# from urllib.request import urlopen   \n",
    "\n",
    "# import os\n",
    "\n",
    "# URL = \\\n",
    "#     'http://pdata.hcad.org/download/2017/Real_acct_owner.zip'\n",
    "\n",
    "# # open and save the zip file onto computer\n",
    "# url = urlopen(URL)\n",
    "\n",
    "# localfilename = '2017realacct.zip'\n",
    "# output = open(localfilename, 'wb')    # note the flag:  \"wb\"        \n",
    "# output.write(url.read())\n",
    "# output.close()\n",
    "\n",
    "# read the zip file as a pandas dataframe\n",
    "\n",
    "#df = pd.read_table(localfilename)   # pandas version 0.18.1 takes zip files       \n",
    "\n"
   ]
  },
  {
   "cell_type": "code",
   "execution_count": 46,
   "metadata": {
    "scrolled": true
   },
   "outputs": [
    {
     "name": "stderr",
     "output_type": "stream",
     "text": [
      "C:\\Users\\wleavell\\Anaconda3\\lib\\site-packages\\IPython\\core\\interactiveshell.py:2717: DtypeWarning: Columns (19,21,33) have mixed types. Specify dtype option on import or set low_memory=False.\n",
      "  interactivity=interactivity, compiler=compiler, result=result)\n"
     ]
    }
   ],
   "source": [
    "import pandas as pd\n",
    "\n",
    "projectDirectory = \"C://Apps//HCADDataFiles//\"\n",
    "pathTo2017RealAccountData = \"2017realacct//real_acct.txt\"\n",
    "pathToRealAccountHeader = 'real_acct_header.csv'\n",
    "ISOFormat = 'ISO-8859-1'\n",
    "\n",
    "#Get Header Text\n",
    "with open(projectDirectory + pathToRealAccountHeader, 'r') as file:\n",
    "    headerValues = file.read().replace('ï»¿', '').replace('\\n','').split(',')\n",
    "\n",
    "#Read data into a table\n",
    "realAccountDataTable = pd.read_table(projectDirectory + pathTo2017RealAccountData, encoding = ISOFormat, header = None)\n",
    "\n",
    "#Give the table the header data \n",
    "realAccountDataTable.columns = headerValues"
   ]
  },
  {
   "cell_type": "code",
   "execution_count": null,
   "metadata": {
    "collapsed": true
   },
   "outputs": [],
   "source": []
  }
 ],
 "metadata": {
  "kernelspec": {
   "display_name": "Python 3",
   "language": "python",
   "name": "python3"
  },
  "language_info": {
   "codemirror_mode": {
    "name": "ipython",
    "version": 3
   },
   "file_extension": ".py",
   "mimetype": "text/x-python",
   "name": "python",
   "nbconvert_exporter": "python",
   "pygments_lexer": "ipython3",
   "version": "3.6.1"
  }
 },
 "nbformat": 4,
 "nbformat_minor": 2
}
